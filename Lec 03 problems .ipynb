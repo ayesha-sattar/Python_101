{
 "cells": [
  {
   "cell_type": "markdown",
   "id": "8d83e3cf",
   "metadata": {},
   "source": [
    "# Lec 03 Problems"
   ]
  },
  {
   "cell_type": "markdown",
   "id": "a1e30282",
   "metadata": {},
   "source": [
    "# Problem no 01"
   ]
  },
  {
   "cell_type": "code",
   "execution_count": 21,
   "id": "a905ede2",
   "metadata": {},
   "outputs": [
    {
     "name": "stdout",
     "output_type": "stream",
     "text": [
      "PPPA+FA+FA+FA+F*A+F\n"
     ]
    }
   ],
   "source": [
    "a = \"P\"*3+\"A\"+\"+\"+\"F\"+\"A\"+\"+\"+\"F\"+\"A\"+\"+\"+\"F\"+\"A\"+\"+\"+\"F\"+\"*\"+\"A\"+\"+\"+\"F\"\n",
    "print(a)"
   ]
  },
  {
   "cell_type": "markdown",
   "id": "e5c72916",
   "metadata": {},
   "source": [
    "# Problem no 02"
   ]
  },
  {
   "cell_type": "code",
   "execution_count": 24,
   "id": "1dea2547",
   "metadata": {},
   "outputs": [
    {
     "name": "stdout",
     "output_type": "stream",
     "text": [
      "aYesha\n"
     ]
    }
   ],
   "source": [
    "a=input()"
   ]
  },
  {
   "cell_type": "code",
   "execution_count": 25,
   "id": "011c6e6e",
   "metadata": {},
   "outputs": [
    {
     "name": "stdout",
     "output_type": "stream",
     "text": [
      "aYesha\n"
     ]
    }
   ],
   "source": [
    "print(a)"
   ]
  },
  {
   "cell_type": "code",
   "execution_count": 26,
   "id": "957a1ce3",
   "metadata": {},
   "outputs": [
    {
     "name": "stdout",
     "output_type": "stream",
     "text": [
      "ayesha\n"
     ]
    }
   ],
   "source": [
    "print(a.lower()) # lower"
   ]
  },
  {
   "cell_type": "code",
   "execution_count": 27,
   "id": "5e0970c5",
   "metadata": {},
   "outputs": [
    {
     "name": "stdout",
     "output_type": "stream",
     "text": [
      "Ayesha\n"
     ]
    }
   ],
   "source": [
    "print(a.capitalize()) # capitalize"
   ]
  },
  {
   "cell_type": "code",
   "execution_count": 33,
   "id": "94bff6e4",
   "metadata": {},
   "outputs": [
    {
     "data": {
      "text/plain": [
       "'aYesha'"
      ]
     },
     "execution_count": 33,
     "metadata": {},
     "output_type": "execute_result"
    }
   ],
   "source": [
    "a =\"aYesha\"\n",
    "a.replace(\"ayesha\" , \"Sattar\")"
   ]
  },
  {
   "cell_type": "code",
   "execution_count": 34,
   "id": "8df50c4b",
   "metadata": {},
   "outputs": [
    {
     "name": "stdout",
     "output_type": "stream",
     "text": [
      "sha\n"
     ]
    }
   ],
   "source": [
    "print(a[3:6])"
   ]
  },
  {
   "cell_type": "code",
   "execution_count": null,
   "id": "0f2f848b",
   "metadata": {},
   "outputs": [],
   "source": []
  }
 ],
 "metadata": {
  "kernelspec": {
   "display_name": "Python 3 (ipykernel)",
   "language": "python",
   "name": "python3"
  },
  "language_info": {
   "codemirror_mode": {
    "name": "ipython",
    "version": 3
   },
   "file_extension": ".py",
   "mimetype": "text/x-python",
   "name": "python",
   "nbconvert_exporter": "python",
   "pygments_lexer": "ipython3",
   "version": "3.10.9"
  }
 },
 "nbformat": 4,
 "nbformat_minor": 5
}

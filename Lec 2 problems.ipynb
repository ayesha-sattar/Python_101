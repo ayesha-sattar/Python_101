{
 "cells": [
  {
   "cell_type": "markdown",
   "id": "5c0b5315",
   "metadata": {},
   "source": [
    "# Problem 01"
   ]
  },
  {
   "cell_type": "code",
   "execution_count": 2,
   "id": "94c60780",
   "metadata": {},
   "outputs": [
    {
     "name": "stdout",
     "output_type": "stream",
     "text": [
      "Lenght of object 12\n",
      "Width of object 10\n",
      "Height of object15\n",
      "Volume of object is :  1800\n"
     ]
    }
   ],
   "source": [
    "a = int(input(\"Lenght of object\"))\n",
    "b = int(input(\"Width of object\"))\n",
    "c = int(input(\"Height of object\"))\n",
    "volume = a*b*c\n",
    "print(\"Volume of object is : \" , volume)\n"
   ]
  },
  {
   "cell_type": "markdown",
   "id": "b5cf41bf",
   "metadata": {},
   "source": [
    "# problem 02"
   ]
  },
  {
   "cell_type": "code",
   "execution_count": 6,
   "id": "3a4efd73",
   "metadata": {},
   "outputs": [
    {
     "name": "stdout",
     "output_type": "stream",
     "text": [
      "Temp in F is : 104\n",
      "The temp in C is :  40.0\n"
     ]
    }
   ],
   "source": [
    "# F to C \n",
    "F = int(input(\"Temp in F is :\"))\n",
    "C = 5*(F-32)/9\n",
    "print(\"The temp in C is : \" , C)"
   ]
  },
  {
   "cell_type": "code",
   "execution_count": 7,
   "id": "ecb8e677",
   "metadata": {},
   "outputs": [
    {
     "name": "stdout",
     "output_type": "stream",
     "text": [
      "Temp in C is : 100\n",
      "The temp in F is : 212.0\n"
     ]
    }
   ],
   "source": [
    "# C to F\n",
    "\n",
    "C = int(input(\"Temp in C is :\"))\n",
    "F =(9/5)*C+32\n",
    "print(\"The temp in F is :\" , F)"
   ]
  },
  {
   "cell_type": "markdown",
   "id": "8d563fc2",
   "metadata": {},
   "source": [
    "# Problem 03"
   ]
  },
  {
   "cell_type": "code",
   "execution_count": null,
   "id": "d7b28371",
   "metadata": {},
   "outputs": [],
   "source": [
    " # Difference b/w  / or //\n",
    "\n",
    "    / : it is the division mark used for normal division \n",
    "        for example : 10/3 the answer is 3 \n",
    "            \n",
    "    // or % : it is reminder \n",
    "        for example 10%3 the answer is 1 that is reminder"
   ]
  }
 ],
 "metadata": {
  "kernelspec": {
   "display_name": "Python 3 (ipykernel)",
   "language": "python",
   "name": "python3"
  },
  "language_info": {
   "codemirror_mode": {
    "name": "ipython",
    "version": 3
   },
   "file_extension": ".py",
   "mimetype": "text/x-python",
   "name": "python",
   "nbconvert_exporter": "python",
   "pygments_lexer": "ipython3",
   "version": "3.10.9"
  }
 },
 "nbformat": 4,
 "nbformat_minor": 5
}

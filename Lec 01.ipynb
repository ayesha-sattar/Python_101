{
 "cells": [
  {
   "cell_type": "code",
   "execution_count": 2,
   "id": "40aa55b4-be8f-4a1f-b175-04213439a9c7",
   "metadata": {},
   "outputs": [],
   "source": [
    "# Lecture 1 problems"
   ]
  },
  {
   "cell_type": "markdown",
   "id": "67589a16-82a2-4b1c-8dfc-559140e65606",
   "metadata": {},
   "source": [
    "# Problem no 1"
   ]
  },
  {
   "cell_type": "code",
   "execution_count": 10,
   "id": "fe31749d-3514-4e45-b9b5-da20d6a31dd3",
   "metadata": {},
   "outputs": [
    {
     "name": "stdout",
     "output_type": "stream",
     "text": [
      "Ayesha , Sattar , Depalpur , Pakistan , Intel(R)Core(TM)i5-1420U CPU @1.70GHz 2.40GHz\n"
     ]
    }
   ],
   "source": [
    "print(\"Ayesha , Sattar , Depalpur , Pakistan , Intel(R)Core(TM)i5-1420U CPU @1.70GHz 2.40GHz\")"
   ]
  },
  {
   "cell_type": "markdown",
   "id": "60677a5c-46f2-421a-ad7b-357f3e6f56a7",
   "metadata": {},
   "source": [
    "# Problem no 2"
   ]
  },
  {
   "cell_type": "code",
   "execution_count": 29,
   "id": "90e90a4d-7c0b-4a59-84f8-b630edbcf20a",
   "metadata": {},
   "outputs": [
    {
     "name": "stdout",
     "output_type": "stream",
     "text": [
      "\t\tJanuary\n",
      "\tFeburary\tMarch\n",
      "April\t\tMay\t\tJune\n",
      "July\t\tAugust\t\tSeptember\n",
      "\tOctober\t\tNovember\n",
      "\t\tDecember\n"
     ]
    }
   ],
   "source": [
    " print(\"\\t\\tJanuary\\n\\tFeburary\\tMarch\\nApril\\t\\tMay\\t\\tJune\\nJuly\\t\\tAugust\\t\\tSeptember\\n\\tOctober\\t\\tNovember\\n\\t\\tDecember\")\n"
   ]
  },
  {
   "cell_type": "code",
   "execution_count": 32,
   "id": "4915368b-56ae-48be-b603-3a667256dd6a",
   "metadata": {},
   "outputs": [
    {
     "name": "stdout",
     "output_type": "stream",
     "text": [
      "used in python to insert the Tab equals to  4 spaces and represent certain whitespaces character\n"
     ]
    }
   ],
   "source": [
    "# \\t\n",
    "print(\"used in python to insert the Tab equals to  4 spaces and represent certain whitespaces character\")"
   ]
  },
  {
   "cell_type": "code",
   "execution_count": null,
   "id": "936afda6-c79c-4ef6-a6da-d01874c71afe",
   "metadata": {},
   "outputs": [],
   "source": []
  }
 ],
 "metadata": {
  "kernelspec": {
   "display_name": "Python 3 (ipykernel)",
   "language": "python",
   "name": "python3"
  },
  "language_info": {
   "codemirror_mode": {
    "name": "ipython",
    "version": 3
   },
   "file_extension": ".py",
   "mimetype": "text/x-python",
   "name": "python",
   "nbconvert_exporter": "python",
   "pygments_lexer": "ipython3",
   "version": "3.11.7"
  }
 },
 "nbformat": 4,
 "nbformat_minor": 5
}

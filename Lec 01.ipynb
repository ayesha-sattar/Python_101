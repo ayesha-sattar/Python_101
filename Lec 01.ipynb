{
 "cells": [
  {
   "cell_type": "code",
   "execution_count": 1,
   "id": "bb9534d1",
   "metadata": {},
   "outputs": [],
   "source": [
    "# Basic intro "
   ]
  },
  {
   "cell_type": "code",
   "execution_count": 2,
   "id": "3e65296a",
   "metadata": {},
   "outputs": [
    {
     "name": "stdout",
     "output_type": "stream",
     "text": [
      "Hello world\n"
     ]
    }
   ],
   "source": [
    "print(\"Hello world\")"
   ]
  },
  {
   "cell_type": "code",
   "execution_count": 3,
   "id": "d9356222",
   "metadata": {},
   "outputs": [],
   "source": [
    "# shift enter : for print\n",
    "# save : ctrl s\n",
    "# copy : ctrl c\n",
    "# paste : ctrl v\n",
    "# dd : delete cell\n",
    "# z : return the cell"
   ]
  },
  {
   "cell_type": "code",
   "execution_count": 4,
   "id": "d6894fbf",
   "metadata": {},
   "outputs": [],
   "source": [
    "# synatx : word kesy likha he like punctuation , grammar words etc\n",
    "# semantic : meaning sai he ya nhi like sentence"
   ]
  },
  {
   "cell_type": "code",
   "execution_count": 5,
   "id": "acb37226",
   "metadata": {},
   "outputs": [
    {
     "ename": "NameError",
     "evalue": "name 'prinf' is not defined",
     "output_type": "error",
     "traceback": [
      "\u001b[1;31m---------------------------------------------------------------------------\u001b[0m",
      "\u001b[1;31mNameError\u001b[0m                                 Traceback (most recent call last)",
      "Cell \u001b[1;32mIn[5], line 1\u001b[0m\n\u001b[1;32m----> 1\u001b[0m \u001b[43mprinf\u001b[49m(\u001b[38;5;124m\"\u001b[39m\u001b[38;5;124maaa\u001b[39m\u001b[38;5;124m\"\u001b[39m)\n",
      "\u001b[1;31mNameError\u001b[0m: name 'prinf' is not defined"
     ]
    }
   ],
   "source": [
    "prinf(\"aaa\") # synatx error"
   ]
  },
  {
   "cell_type": "code",
   "execution_count": 6,
   "id": "05c692e7",
   "metadata": {},
   "outputs": [
    {
     "ename": "NameError",
     "evalue": "name 'a' is not defined",
     "output_type": "error",
     "traceback": [
      "\u001b[1;31m---------------------------------------------------------------------------\u001b[0m",
      "\u001b[1;31mNameError\u001b[0m                                 Traceback (most recent call last)",
      "Cell \u001b[1;32mIn[6], line 1\u001b[0m\n\u001b[1;32m----> 1\u001b[0m a \u001b[38;5;241m=\u001b[39m \u001b[43ma\u001b[49m\u001b[38;5;241m*\u001b[39ma\u001b[38;5;241m-\u001b[39m\u001b[38;5;241m-\u001b[39ma\n",
      "\u001b[1;31mNameError\u001b[0m: name 'a' is not defined"
     ]
    }
   ],
   "source": [
    "a = a*a--a # semantic error"
   ]
  },
  {
   "cell_type": "code",
   "execution_count": 7,
   "id": "c4c6855b",
   "metadata": {},
   "outputs": [
    {
     "name": "stdout",
     "output_type": "stream",
     "text": [
      "Ayesha\n"
     ]
    }
   ],
   "source": [
    "# Comment : ignore the statements \n",
    "\n",
    "\"\"\"\n",
    "1.steps\n",
    "2.\n",
    "\"\"\"\n",
    "print(\"Ayesha\")\n"
   ]
  },
  {
   "cell_type": "code",
   "execution_count": 9,
   "id": "5485bfd3",
   "metadata": {},
   "outputs": [
    {
     "name": "stdout",
     "output_type": "stream",
     "text": [
      "one\n"
     ]
    }
   ],
   "source": [
    "# this is class\n",
    "print(\"one\")"
   ]
  },
  {
   "cell_type": "code",
   "execution_count": 11,
   "id": "d6e7f1ee",
   "metadata": {},
   "outputs": [
    {
     "name": "stdout",
     "output_type": "stream",
     "text": [
      "['False', 'None', 'True', 'and', 'as', 'assert', 'async', 'await', 'break', 'class', 'continue', 'def', 'del', 'elif', 'else', 'except', 'finally', 'for', 'from', 'global', 'if', 'import', 'in', 'is', 'lambda', 'nonlocal', 'not', 'or', 'pass', 'raise', 'return', 'try', 'while', 'with', 'yield']\n"
     ]
    }
   ],
   "source": [
    "# keywords : dedicated not use as a variable  etc \n",
    "import keyword \n",
    "print(keyword.kwlist)"
   ]
  },
  {
   "cell_type": "markdown",
   "id": "76c903d3",
   "metadata": {},
   "source": [
    "# markdown \n",
    "this is class"
   ]
  },
  {
   "cell_type": "code",
   "execution_count": 15,
   "id": "87ac3e7e",
   "metadata": {},
   "outputs": [
    {
     "ename": "IndentationError",
     "evalue": "expected an indented block after 'if' statement on line 2 (1438924990.py, line 3)",
     "output_type": "error",
     "traceback": [
      "\u001b[1;36m  Cell \u001b[1;32mIn[15], line 3\u001b[1;36m\u001b[0m\n\u001b[1;33m    print(\"ss\")\u001b[0m\n\u001b[1;37m    ^\u001b[0m\n\u001b[1;31mIndentationError\u001b[0m\u001b[1;31m:\u001b[0m expected an indented block after 'if' statement on line 2\n"
     ]
    }
   ],
   "source": [
    "# indentation : error occur if we not put indentation at the start\n",
    "if true:\n",
    "print(\"ss\")"
   ]
  },
  {
   "cell_type": "code",
   "execution_count": null,
   "id": "6d39b982",
   "metadata": {},
   "outputs": [],
   "source": []
  }
 ],
 "metadata": {
  "kernelspec": {
   "display_name": "Python 3 (ipykernel)",
   "language": "python",
   "name": "python3"
  },
  "language_info": {
   "codemirror_mode": {
    "name": "ipython",
    "version": 3
   },
   "file_extension": ".py",
   "mimetype": "text/x-python",
   "name": "python",
   "nbconvert_exporter": "python",
   "pygments_lexer": "ipython3",
   "version": "3.10.9"
  }
 },
 "nbformat": 4,
 "nbformat_minor": 5
}

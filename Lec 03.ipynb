{
 "cells": [
  {
   "cell_type": "markdown",
   "id": "258eade9",
   "metadata": {},
   "source": [
    "# Strings"
   ]
  },
  {
   "cell_type": "code",
   "execution_count": 2,
   "id": "dd109b60",
   "metadata": {},
   "outputs": [
    {
     "name": "stdout",
     "output_type": "stream",
     "text": [
      "Hello\n"
     ]
    }
   ],
   "source": [
    "a = \"Hello\"\n",
    "print(a)"
   ]
  },
  {
   "cell_type": "code",
   "execution_count": 10,
   "id": "0b1ded08",
   "metadata": {},
   "outputs": [
    {
     "name": "stdout",
     "output_type": "stream",
     "text": [
      "True\n"
     ]
    }
   ],
   "source": [
    "# operators \n",
    "#== , = , < , > != etc\n",
    "# comparison based on ASCII table\n",
    "b = \"ayesha\"\n",
    "c = \"ayesha\"\n",
    "d = \"Ayesha\"\n",
    "e = \"ayeshas\"\n",
    "# print(b==c)\n",
    "# print(a==b)\n",
    "# print(b==d)\n",
    "# print(e>b)\n",
    "# print(b!=d)\n",
    "\n"
   ]
  },
  {
   "cell_type": "code",
   "execution_count": 11,
   "id": "8c3b915b",
   "metadata": {},
   "outputs": [
    {
     "name": "stdout",
     "output_type": "stream",
     "text": [
      "ayeshasattar\n"
     ]
    }
   ],
   "source": [
    "# concetination : adding the two strings using the +\n",
    "a = \"ayesha\"\n",
    "b = \"sattar\"\n",
    "print(a+b)\n",
    "\n",
    " "
   ]
  },
  {
   "cell_type": "code",
   "execution_count": 12,
   "id": "e68cafa5",
   "metadata": {},
   "outputs": [
    {
     "name": "stdout",
     "output_type": "stream",
     "text": [
      "hellohellohello\n"
     ]
    }
   ],
   "source": [
    "# multiplication string\n",
    "a = \"hello\"\n",
    "print(3*a)"
   ]
  },
  {
   "cell_type": "code",
   "execution_count": 13,
   "id": "f2306e9a",
   "metadata": {},
   "outputs": [
    {
     "name": "stdout",
     "output_type": "stream",
     "text": [
      "True\n"
     ]
    }
   ],
   "source": [
    "# in operator : check the characters is in the string or not , left me value he right ki ya nhi\n",
    "print('aye' in 'ayesha')"
   ]
  },
  {
   "cell_type": "code",
   "execution_count": 23,
   "id": "4825abec",
   "metadata": {},
   "outputs": [
    {
     "data": {
      "text/plain": [
       "'deni'"
      ]
     },
     "execution_count": 23,
     "metadata": {},
     "output_type": "execute_result"
    }
   ],
   "source": [
    "# silicing : the specific part/string/character which we want\n",
    "o = \"denis\"\n",
    "# print(o[3])\n",
    "# o[0:2]\n",
    "# o[3 : ]\n",
    "# o[ : 4]\n"
   ]
  },
  {
   "cell_type": "code",
   "execution_count": 30,
   "id": "21557ce3",
   "metadata": {},
   "outputs": [
    {
     "data": {
      "text/plain": [
       "'o'"
      ]
     },
     "execution_count": 30,
     "metadata": {},
     "output_type": "execute_result"
    }
   ],
   "source": [
    "# Negative silicing \n",
    "h = \"hello\"\n",
    "# print(h[::-1])\n",
    "h[-1]"
   ]
  },
  {
   "cell_type": "code",
   "execution_count": 31,
   "id": "b4d772e9",
   "metadata": {},
   "outputs": [
    {
     "name": "stdout",
     "output_type": "stream",
     "text": [
      "13\n"
     ]
    }
   ],
   "source": [
    "# functions or method\n",
    "# function : kisi b cheez k lia ho skta he int , float etc\n",
    "# method : ye specific object k lia hota he\n",
    "\n",
    "a = \"ayesha sattar\"\n",
    "print(len(a))"
   ]
  },
  {
   "cell_type": "code",
   "execution_count": 33,
   "id": "7d386f44",
   "metadata": {},
   "outputs": [
    {
     "name": "stdout",
     "output_type": "stream",
     "text": [
      "AYESHA SATTAR\n"
     ]
    }
   ],
   "source": [
    "print(a.upper())"
   ]
  },
  {
   "cell_type": "code",
   "execution_count": 34,
   "id": "f2ec2c71",
   "metadata": {},
   "outputs": [
    {
     "name": "stdout",
     "output_type": "stream",
     "text": [
      "Ayesha sattar\n"
     ]
    }
   ],
   "source": [
    "# capitalize : first character capital\n",
    "print(a.capitalize())"
   ]
  },
  {
   "cell_type": "code",
   "execution_count": 41,
   "id": "a738a384",
   "metadata": {},
   "outputs": [
    {
     "name": "stdout",
     "output_type": "stream",
     "text": [
      "['What', 'is', 'going', 'on?']\n"
     ]
    }
   ],
   "source": [
    "# split : sepaarte krta he\n",
    "a = \"What is going on?\"\n",
    "print(a.split())"
   ]
  },
  {
   "cell_type": "code",
   "execution_count": 43,
   "id": "db30ff52",
   "metadata": {},
   "outputs": [
    {
     "name": "stdout",
     "output_type": "stream",
     "text": [
      "***h r u***\n"
     ]
    }
   ],
   "source": [
    "# center\n",
    "a = \"h r u\"\n",
    "print(a.center(11 ,'*'))"
   ]
  },
  {
   "cell_type": "code",
   "execution_count": 48,
   "id": "ac631144",
   "metadata": {},
   "outputs": [
    {
     "name": "stdout",
     "output_type": "stream",
     "text": [
      "hello \\nhello\n"
     ]
    }
   ],
   "source": [
    "# raw string : same wesy hi execute ho gi\n",
    "\n",
    "# print(r\"hello \\nhello\")\n",
    "# print(\"hello \\\\nhello\")\n",
    "\n",
    " "
   ]
  },
  {
   "cell_type": "code",
   "execution_count": null,
   "id": "b1929b32",
   "metadata": {},
   "outputs": [],
   "source": [
    "# strings are imutable"
   ]
  },
  {
   "cell_type": "code",
   "execution_count": 49,
   "id": "b3852c0b",
   "metadata": {},
   "outputs": [
    {
     "data": {
      "text/plain": [
       "'Denis'"
      ]
     },
     "execution_count": 49,
     "metadata": {},
     "output_type": "execute_result"
    }
   ],
   "source": [
    "#replace\n",
    "a = \"ayesha\"\n",
    "a.replace(\"ayesha\", \"Denis\")"
   ]
  },
  {
   "cell_type": "code",
   "execution_count": 50,
   "id": "471c7d64",
   "metadata": {},
   "outputs": [
    {
     "data": {
      "text/plain": [
       "'syeshs'"
      ]
     },
     "execution_count": 50,
     "metadata": {},
     "output_type": "execute_result"
    }
   ],
   "source": [
    "a.replace(\"a\" , \"s\" , 2) # argument"
   ]
  },
  {
   "cell_type": "code",
   "execution_count": 7,
   "id": "f800ea04",
   "metadata": {},
   "outputs": [
    {
     "ename": "SyntaxError",
     "evalue": "invalid syntax. Perhaps you forgot a comma? (2145154144.py, line 18)",
     "output_type": "error",
     "traceback": [
      "\u001b[1;36m  Cell \u001b[1;32mIn[7], line 18\u001b[1;36m\u001b[0m\n\u001b[1;33m    print(x+O\"+\"+d\"+\"+g\"+\"+j\"+\"+m\"+\"+n)\u001b[0m\n\u001b[1;37m          ^\u001b[0m\n\u001b[1;31mSyntaxError\u001b[0m\u001b[1;31m:\u001b[0m invalid syntax. Perhaps you forgot a comma?\n"
     ]
    }
   ],
   "source": [
    "a =\"P\"\n",
    "x=3*a\n",
    "o=\"A\"\n",
    "b=\"F\"\n",
    "c=\"A\"\n",
    "d=b+c\n",
    "e=\"F\"\n",
    "f=\"A\"\n",
    "g=e+f\n",
    "h=\"F\"\n",
    "i=\"A\"\n",
    "j=h+i\n",
    "k=\"F\"\n",
    "l=\"A\"\n",
    "m=k*l\n",
    "n=\"F\"\n",
    "\n",
    "print(x+o\"+\"+d\"+\"+g\"+\"+j\"+\"+m\"+\"n)"
   ]
  },
  {
   "cell_type": "code",
   "execution_count": 15,
   "id": "21aafbb7",
   "metadata": {},
   "outputs": [
    {
     "ename": "SyntaxError",
     "evalue": "invalid syntax. Perhaps you forgot a comma? (886219651.py, line 20)",
     "output_type": "error",
     "traceback": [
      "\u001b[1;36m  Cell \u001b[1;32mIn[15], line 20\u001b[1;36m\u001b[0m\n\u001b[1;33m    print(q\"+\"+d+\"+\"+g+\"+\"+j+\"+\"+m+\"+\"n)\u001b[0m\n\u001b[1;37m           ^\u001b[0m\n\u001b[1;31mSyntaxError\u001b[0m\u001b[1;31m:\u001b[0m invalid syntax. Perhaps you forgot a comma?\n"
     ]
    }
   ],
   "source": [
    "a =\"P\"\n",
    "x=3*a\n",
    "o=\"A\"\n",
    "q=x+o\n",
    "b=\"F\"\n",
    "c=\"A\"\n",
    "d=b+c\n",
    "e=\"F\"\n",
    "f=\"A\"\n",
    "g=e+f\n",
    "h=\"F\"\n",
    "i=\"A\"\n",
    "j=h+i\n",
    "k=\"F\"\n",
    "p=\"*\"\n",
    "l=\"A\"\n",
    "m = k+p+l\n",
    "n=\"F\"\n",
    "\n",
    "print(q\"+\"+d+\"+\"+g+\"+\"+j+\"+\"+m+\"+\"n)\n"
   ]
  },
  {
   "cell_type": "code",
   "execution_count": 16,
   "id": "3298f34c",
   "metadata": {},
   "outputs": [
    {
     "name": "stdout",
     "output_type": "stream",
     "text": [
      "PPPA+FA+FA+FA+F*A+F\n"
     ]
    }
   ],
   "source": [
    "a = \"P\"\n",
    "x = 3 * a\n",
    "o = \"A\"\n",
    "q = x + o\n",
    "b = \"F\"\n",
    "c = \"A\"\n",
    "d = b + c\n",
    "e = \"F\"\n",
    "f = \"A\"\n",
    "g = e + f\n",
    "h = \"F\"\n",
    "i = \"A\"\n",
    "j = h + i\n",
    "k = \"F\"\n",
    "p = \"*\"\n",
    "l = \"A\"\n",
    "m = k + p + l\n",
    "n = \"F\"\n",
    "\n",
    "print(q + \"+\" + d + \"+\" + g + \"+\" + j + \"+\" + m + \"+\" + n)\n"
   ]
  },
  {
   "cell_type": "code",
   "execution_count": null,
   "id": "acd813a2",
   "metadata": {},
   "outputs": [],
   "source": []
  }
 ],
 "metadata": {
  "kernelspec": {
   "display_name": "Python 3 (ipykernel)",
   "language": "python",
   "name": "python3"
  },
  "language_info": {
   "codemirror_mode": {
    "name": "ipython",
    "version": 3
   },
   "file_extension": ".py",
   "mimetype": "text/x-python",
   "name": "python",
   "nbconvert_exporter": "python",
   "pygments_lexer": "ipython3",
   "version": "3.10.9"
  }
 },
 "nbformat": 4,
 "nbformat_minor": 5
}

{
 "cells": [
  {
   "cell_type": "markdown",
   "id": "90566850-0dc7-4e62-acda-424da5b97417",
   "metadata": {},
   "source": [
    "# Lec 02 Variables"
   ]
  },
  {
   "cell_type": "code",
   "execution_count": 1,
   "id": "9e34881c-27ad-45a8-8436-5c73aa06aab2",
   "metadata": {},
   "outputs": [],
   "source": [
    "a = 2"
   ]
  },
  {
   "cell_type": "code",
   "execution_count": 3,
   "id": "7a6522e9-7849-47f5-9daa-901cc4458aab",
   "metadata": {},
   "outputs": [
    {
     "data": {
      "text/plain": [
       "int"
      ]
     },
     "execution_count": 3,
     "metadata": {},
     "output_type": "execute_result"
    }
   ],
   "source": [
    "type(a)"
   ]
  },
  {
   "cell_type": "code",
   "execution_count": 4,
   "id": "687e7cdc-0414-4c5c-a764-bd442adcebd0",
   "metadata": {},
   "outputs": [
    {
     "data": {
      "text/plain": [
       "float"
      ]
     },
     "execution_count": 4,
     "metadata": {},
     "output_type": "execute_result"
    }
   ],
   "source": [
    "b = 7.3\n",
    "type(b)"
   ]
  },
  {
   "cell_type": "code",
   "execution_count": 6,
   "id": "bd21663d-cb03-4a38-b7b9-f4ae066a6c65",
   "metadata": {},
   "outputs": [
    {
     "data": {
      "text/plain": [
       "str"
      ]
     },
     "execution_count": 6,
     "metadata": {},
     "output_type": "execute_result"
    }
   ],
   "source": [
    "c = \"ayesha\"\n",
    "type(c)"
   ]
  },
  {
   "cell_type": "code",
   "execution_count": 1,
   "id": "e4b64ad5-92ee-4f89-8695-c30fd5a78b63",
   "metadata": {},
   "outputs": [
    {
     "name": "stdout",
     "output_type": "stream",
     "text": [
      "150\n"
     ]
    }
   ],
   "source": [
    "x1=15\n",
    "x2=10\n",
    "result=x1*x2\n",
    "print(result)"
   ]
  },
  {
   "cell_type": "code",
   "execution_count": 1,
   "id": "1dbbc286-28e1-42e1-b872-cafaf74b83b8",
   "metadata": {},
   "outputs": [
    {
     "name": "stdout",
     "output_type": "stream",
     "text": [
      "120\n"
     ]
    }
   ],
   "source": [
    "# input from the user\n",
    "\n",
    "x=input()"
   ]
  },
  {
   "cell_type": "code",
   "execution_count": 2,
   "id": "4b3615a1-0847-484f-ac7a-20056047fe20",
   "metadata": {},
   "outputs": [
    {
     "name": "stdout",
     "output_type": "stream",
     "text": [
      "120\n"
     ]
    }
   ],
   "source": [
    "print(x)"
   ]
  },
  {
   "cell_type": "code",
   "execution_count": 3,
   "id": "52fb7006",
   "metadata": {},
   "outputs": [],
   "source": [
    "x = 5"
   ]
  },
  {
   "cell_type": "code",
   "execution_count": 4,
   "id": "c09b2081",
   "metadata": {},
   "outputs": [
    {
     "name": "stdout",
     "output_type": "stream",
     "text": [
      "5\n"
     ]
    }
   ],
   "source": [
    "print(x)"
   ]
  },
  {
   "cell_type": "code",
   "execution_count": 5,
   "id": "1972dd7a",
   "metadata": {},
   "outputs": [
    {
     "name": "stdout",
     "output_type": "stream",
     "text": [
      "4\n"
     ]
    }
   ],
   "source": [
    "x= 2\n",
    "print(2*x)"
   ]
  },
  {
   "cell_type": "code",
   "execution_count": 6,
   "id": "d075c9a2",
   "metadata": {},
   "outputs": [],
   "source": [
    "# single assign the values\n",
    "\n",
    "a = 2\n",
    "b = 6\n",
    "c= 7"
   ]
  },
  {
   "cell_type": "code",
   "execution_count": 7,
   "id": "457383d3",
   "metadata": {},
   "outputs": [
    {
     "name": "stdout",
     "output_type": "stream",
     "text": [
      "2\n",
      "6\n",
      "7\n"
     ]
    }
   ],
   "source": [
    "print (a)\n",
    "print (b)\n",
    "print (c)"
   ]
  },
  {
   "cell_type": "code",
   "execution_count": 8,
   "id": "b11ec2ef",
   "metadata": {},
   "outputs": [
    {
     "name": "stdout",
     "output_type": "stream",
     "text": [
      "1 2 3\n"
     ]
    }
   ],
   "source": [
    "# assign the values in one line\n",
    "\n",
    "a , b , c = 1 , 2 , 3\n",
    "print(a , b , c)\n"
   ]
  },
  {
   "cell_type": "code",
   "execution_count": 10,
   "id": "9065f850",
   "metadata": {},
   "outputs": [
    {
     "name": "stdout",
     "output_type": "stream",
     "text": [
      "Enter your name: ayesha\n"
     ]
    }
   ],
   "source": [
    "x = input(\"Enter your name:\")"
   ]
  },
  {
   "cell_type": "code",
   "execution_count": 11,
   "id": "c128c9e4",
   "metadata": {},
   "outputs": [
    {
     "name": "stdout",
     "output_type": "stream",
     "text": [
      " ayesha\n"
     ]
    }
   ],
   "source": [
    "print(x)"
   ]
  },
  {
   "cell_type": "code",
   "execution_count": 12,
   "id": "4ef33171",
   "metadata": {},
   "outputs": [
    {
     "name": "stdout",
     "output_type": "stream",
     "text": [
      "2146256290064\n",
      "2146256290096\n"
     ]
    }
   ],
   "source": [
    "# id function : ye btata he k hmry pas variables ki kya values assign hoi hn memory me alg ya same store hoi hn\n",
    "\n",
    "a = 2\n",
    "b = 3\n",
    "print(id(a))\n",
    "print(id(b))"
   ]
  },
  {
   "cell_type": "code",
   "execution_count": 13,
   "id": "bf3063df",
   "metadata": {},
   "outputs": [
    {
     "name": "stdout",
     "output_type": "stream",
     "text": [
      "2146256290064\n",
      "2146256290064\n"
     ]
    }
   ],
   "source": [
    "a = 2\n",
    "b = 2\n",
    "print(id(a))\n",
    "print(id(b))"
   ]
  },
  {
   "cell_type": "code",
   "execution_count": 14,
   "id": "bc62234b",
   "metadata": {},
   "outputs": [],
   "source": [
    "# Type casting : kisi b variable ki data type ko change krny k lia use hoti he "
   ]
  },
  {
   "cell_type": "code",
   "execution_count": 1,
   "id": "14fdebe2",
   "metadata": {},
   "outputs": [
    {
     "name": "stdout",
     "output_type": "stream",
     "text": [
      "First value:10\n",
      "second value:15\n",
      "25\n"
     ]
    }
   ],
   "source": [
    "x = int(input(\"First value:\"))\n",
    "y = int(input(\"second value:\")) \n",
    "result =  x + y\n",
    "print(result)"
   ]
  },
  {
   "cell_type": "code",
   "execution_count": 2,
   "id": "9557fb93",
   "metadata": {},
   "outputs": [
    {
     "name": "stdout",
     "output_type": "stream",
     "text": [
      "Temp in C is : 75.55555555555556\n"
     ]
    }
   ],
   "source": [
    "F = 104\n",
    "C = 5*(F+32)/9\n",
    "print(\"Temp in C is :\" , C)\n"
   ]
  },
  {
   "cell_type": "code",
   "execution_count": null,
   "id": "35ac020e",
   "metadata": {},
   "outputs": [],
   "source": []
  }
 ],
 "metadata": {
  "kernelspec": {
   "display_name": "Python 3 (ipykernel)",
   "language": "python",
   "name": "python3"
  },
  "language_info": {
   "codemirror_mode": {
    "name": "ipython",
    "version": 3
   },
   "file_extension": ".py",
   "mimetype": "text/x-python",
   "name": "python",
   "nbconvert_exporter": "python",
   "pygments_lexer": "ipython3",
   "version": "3.10.9"
  }
 },
 "nbformat": 4,
 "nbformat_minor": 5
}

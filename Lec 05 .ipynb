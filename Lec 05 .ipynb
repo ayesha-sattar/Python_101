{
 "cells": [
  {
   "cell_type": "markdown",
   "id": "167dc493",
   "metadata": {},
   "source": [
    "# Dictionaries"
   ]
  },
  {
   "cell_type": "code",
   "execution_count": null,
   "id": "e0415928",
   "metadata": {},
   "outputs": [],
   "source": [
    "# dictionary is assign by the {} it has key and its value ."
   ]
  },
  {
   "cell_type": "code",
   "execution_count": null,
   "id": "37793b04",
   "metadata": {},
   "outputs": [],
   "source": [
    "# v = {key: value} key must be unique  , NOT index , any data type"
   ]
  },
  {
   "cell_type": "code",
   "execution_count": null,
   "id": "5623052e",
   "metadata": {},
   "outputs": [],
   "source": [
    "# it follow the CRUD"
   ]
  },
  {
   "cell_type": "code",
   "execution_count": null,
   "id": "20a09d25",
   "metadata": {},
   "outputs": [],
   "source": [
    "\"\"\"\n",
    "1) CREATE / DECLARE\n",
    " a = {1 : \"b\", 2 : \"c\"}\n",
    " type(a)\n",
    " a = dict({ 1 : \"b\" , 2 : \"c\"})\n",
    "\"\"\" \n"
   ]
  },
  {
   "cell_type": "code",
   "execution_count": 5,
   "id": "07052f90",
   "metadata": {},
   "outputs": [
    {
     "data": {
      "text/plain": [
       "'\\n2) READ / ACCESS\\nprint(a[1] \\n\\n'"
      ]
     },
     "execution_count": 5,
     "metadata": {},
     "output_type": "execute_result"
    }
   ],
   "source": [
    "\"\"\"\n",
    "2) READ / ACCESS\n",
    "print(a[1]  ? a.get()\n",
    "\"\"\""
   ]
  },
  {
   "cell_type": "code",
   "execution_count": null,
   "id": "21c6b4bc",
   "metadata": {},
   "outputs": [],
   "source": [
    "\"\"\"\n",
    "3) UPDATE\n",
    "d[1] = \"d\"\n",
    "\"\"\""
   ]
  },
  {
   "cell_type": "code",
   "execution_count": 11,
   "id": "6959cf37",
   "metadata": {},
   "outputs": [
    {
     "data": {
      "text/plain": [
       "'\\n4) DELETE\\n.pop()\\ndel d # all del \\ndel d[]\\nclear  # dict empty show\\n'"
      ]
     },
     "execution_count": 11,
     "metadata": {},
     "output_type": "execute_result"
    }
   ],
   "source": [
    "\"\"\"\n",
    "4) DELETE\n",
    ".pop()\n",
    "del d # all del \n",
    "del d[]\n",
    "clear  # dict empty show\n",
    "\"\"\""
   ]
  },
  {
   "cell_type": "markdown",
   "id": "53a11ec2",
   "metadata": {},
   "source": [
    "# Create"
   ]
  },
  {
   "cell_type": "code",
   "execution_count": 6,
   "id": "99e8ac1a",
   "metadata": {},
   "outputs": [],
   "source": [
    "my_variable = {1 : \"a\" , 2 : \"b\" , \"c\" : 3}"
   ]
  },
  {
   "cell_type": "code",
   "execution_count": 8,
   "id": "624ad3fe",
   "metadata": {},
   "outputs": [
    {
     "data": {
      "text/plain": [
       "dict"
      ]
     },
     "execution_count": 8,
     "metadata": {},
     "output_type": "execute_result"
    }
   ],
   "source": [
    "type(my_variable)"
   ]
  },
  {
   "cell_type": "code",
   "execution_count": 10,
   "id": "db6c292d",
   "metadata": {},
   "outputs": [
    {
     "data": {
      "text/plain": [
       "dict"
      ]
     },
     "execution_count": 10,
     "metadata": {},
     "output_type": "execute_result"
    }
   ],
   "source": [
    "my_variable =dict( {1 : \"a\" , 2 : \"b\" , \"c\" : 3})\n",
    "type(my_variable)"
   ]
  },
  {
   "cell_type": "markdown",
   "id": "0d553b39",
   "metadata": {},
   "source": [
    "# Read"
   ]
  },
  {
   "cell_type": "code",
   "execution_count": null,
   "id": "ef365129",
   "metadata": {},
   "outputs": [],
   "source": [
    "my_variable = {1 : \"a\" , 2 : \"b\" , \"c\" : 3}"
   ]
  },
  {
   "cell_type": "code",
   "execution_count": 12,
   "id": "a8237e61",
   "metadata": {},
   "outputs": [
    {
     "data": {
      "text/plain": [
       "'a'"
      ]
     },
     "execution_count": 12,
     "metadata": {},
     "output_type": "execute_result"
    }
   ],
   "source": [
    "my_variable.get(1)"
   ]
  },
  {
   "cell_type": "code",
   "execution_count": 13,
   "id": "c36baf58",
   "metadata": {},
   "outputs": [
    {
     "name": "stdout",
     "output_type": "stream",
     "text": [
      "3\n"
     ]
    }
   ],
   "source": [
    "print(my_variable[\"c\"])"
   ]
  },
  {
   "cell_type": "markdown",
   "id": "e8adb4e7",
   "metadata": {},
   "source": [
    "# Update"
   ]
  },
  {
   "cell_type": "code",
   "execution_count": null,
   "id": "a1eb2158",
   "metadata": {},
   "outputs": [],
   "source": [
    "my_variable = {1 : \"a\" , 2 : \"b\" , \"c\" : 3}"
   ]
  },
  {
   "cell_type": "code",
   "execution_count": 17,
   "id": "d6613f00",
   "metadata": {},
   "outputs": [
    {
     "name": "stdout",
     "output_type": "stream",
     "text": [
      "{1: 'a', 2: 'b', 'c': 12}\n"
     ]
    }
   ],
   "source": [
    "my_variable[\"c\"] = 12\n",
    "print(my_variable)"
   ]
  },
  {
   "cell_type": "markdown",
   "id": "d9418b6b",
   "metadata": {},
   "source": [
    "# Delete\n"
   ]
  },
  {
   "cell_type": "code",
   "execution_count": null,
   "id": "dbcc4d56",
   "metadata": {},
   "outputs": [],
   "source": [
    "my_variable = {1 : \"a\" , 2 : \"b\" , \"c\" : 3}"
   ]
  },
  {
   "cell_type": "code",
   "execution_count": 19,
   "id": "cd2fb824",
   "metadata": {},
   "outputs": [
    {
     "name": "stdout",
     "output_type": "stream",
     "text": [
      "{1: 'a', 2: 'b'}\n"
     ]
    }
   ],
   "source": [
    "my_variable.pop(\"c\")\n",
    "print(my_variable)"
   ]
  },
  {
   "cell_type": "code",
   "execution_count": 21,
   "id": "204314e1",
   "metadata": {},
   "outputs": [
    {
     "ename": "NameError",
     "evalue": "name 'my_variable' is not defined",
     "output_type": "error",
     "traceback": [
      "\u001b[1;31m---------------------------------------------------------------------------\u001b[0m",
      "\u001b[1;31mNameError\u001b[0m                                 Traceback (most recent call last)",
      "Cell \u001b[1;32mIn[21], line 1\u001b[0m\n\u001b[1;32m----> 1\u001b[0m \u001b[38;5;28;01mdel\u001b[39;00m my_variable\n",
      "\u001b[1;31mNameError\u001b[0m: name 'my_variable' is not defined"
     ]
    }
   ],
   "source": [
    "del my_variable"
   ]
  },
  {
   "cell_type": "code",
   "execution_count": 25,
   "id": "b615243a",
   "metadata": {},
   "outputs": [
    {
     "name": "stdout",
     "output_type": "stream",
     "text": [
      "{2: 'b', 'c': 3}\n"
     ]
    }
   ],
   "source": [
    "my_variable = {1 : \"a\" , 2 : \"b\" , \"c\" : 3}\n",
    "del my_variable[1]\n",
    "print(my_variable)"
   ]
  },
  {
   "cell_type": "code",
   "execution_count": 29,
   "id": "2303d264",
   "metadata": {},
   "outputs": [
    {
     "name": "stdout",
     "output_type": "stream",
     "text": [
      "{}\n"
     ]
    }
   ],
   "source": [
    "my_variable.clear()\n",
    "print(my_variable)"
   ]
  },
  {
   "cell_type": "markdown",
   "id": "bb3808d8",
   "metadata": {},
   "source": [
    "# addition in dict"
   ]
  },
  {
   "cell_type": "code",
   "execution_count": 32,
   "id": "7ea8e2aa",
   "metadata": {},
   "outputs": [
    {
     "name": "stdout",
     "output_type": "stream",
     "text": [
      "{1: 'a', 2: 'b', 'c': 3}\n"
     ]
    }
   ],
   "source": [
    "my_variable = {1 : \"a\" , 2 : \"b\" , \"c\" : 3}\n",
    "print(my_variable)"
   ]
  },
  {
   "cell_type": "code",
   "execution_count": 33,
   "id": "4cbb671c",
   "metadata": {},
   "outputs": [
    {
     "name": "stdout",
     "output_type": "stream",
     "text": [
      "{1: 'a', 2: 'b', 'c': 3, 'ayesha': 6486}\n"
     ]
    }
   ],
   "source": [
    "my_variable.update({\"ayesha\": 6486})\n",
    "print(my_variable)"
   ]
  },
  {
   "cell_type": "code",
   "execution_count": 35,
   "id": "2d7f0276",
   "metadata": {},
   "outputs": [
    {
     "name": "stdout",
     "output_type": "stream",
     "text": [
      "{1: 'a', 2: 'b', 'c': 3, 'ayesha': 6486, 4: 'Noor'}\n"
     ]
    }
   ],
   "source": [
    "my_variable[4] = \"Noor\"\n",
    "print(my_variable)"
   ]
  }
 ],
 "metadata": {
  "kernelspec": {
   "display_name": "Python 3 (ipykernel)",
   "language": "python",
   "name": "python3"
  },
  "language_info": {
   "codemirror_mode": {
    "name": "ipython",
    "version": 3
   },
   "file_extension": ".py",
   "mimetype": "text/x-python",
   "name": "python",
   "nbconvert_exporter": "python",
   "pygments_lexer": "ipython3",
   "version": "3.10.9"
  }
 },
 "nbformat": 4,
 "nbformat_minor": 5
}
